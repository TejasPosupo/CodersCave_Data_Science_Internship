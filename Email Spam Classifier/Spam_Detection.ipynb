{
 "cells": [
  {
   "cell_type": "markdown",
   "id": "f84b88fd",
   "metadata": {},
   "source": [
    "# Data Importing & Dependencies"
   ]
  },
  {
   "cell_type": "code",
   "execution_count": 2,
   "id": "358022d0",
   "metadata": {
    "ExecuteTime": {
     "end_time": "2023-06-02T06:38:46.733916Z",
     "start_time": "2023-06-02T06:38:46.724916Z"
    }
   },
   "outputs": [],
   "source": [
    "import pandas as pd\n",
    "import numpy as np\n",
    "import matplotlib.pyplot as plt\n",
    "import seaborn as sns\n",
    "from nltk.corpus import stopwords\n",
    "from nltk.stem.porter import PorterStemmer\n",
    "import string\n",
    "from wordcloud import WordCloud"
   ]
  },
  {
   "cell_type": "code",
   "execution_count": 3,
   "id": "f0a4c258",
   "metadata": {
    "ExecuteTime": {
     "end_time": "2023-06-02T06:38:47.031915Z",
     "start_time": "2023-06-02T06:38:46.736915Z"
    }
   },
   "outputs": [],
   "source": [
    "df = pd.read_csv('spam_ham_dataset.csv', encoding='latin-1')"
   ]
  },
  {
   "cell_type": "code",
   "execution_count": 4,
   "id": "910c7065",
   "metadata": {
    "ExecuteTime": {
     "end_time": "2023-06-02T06:38:47.079916Z",
     "start_time": "2023-06-02T06:38:47.036915Z"
    }
   },
   "outputs": [
    {
     "data": {
      "text/html": [
       "<div>\n",
       "<style scoped>\n",
       "    .dataframe tbody tr th:only-of-type {\n",
       "        vertical-align: middle;\n",
       "    }\n",
       "\n",
       "    .dataframe tbody tr th {\n",
       "        vertical-align: top;\n",
       "    }\n",
       "\n",
       "    .dataframe thead th {\n",
       "        text-align: right;\n",
       "    }\n",
       "</style>\n",
       "<table border=\"1\" class=\"dataframe\">\n",
       "  <thead>\n",
       "    <tr style=\"text-align: right;\">\n",
       "      <th></th>\n",
       "      <th>Unnamed: 0</th>\n",
       "      <th>label</th>\n",
       "      <th>text</th>\n",
       "      <th>label_num</th>\n",
       "    </tr>\n",
       "  </thead>\n",
       "  <tbody>\n",
       "    <tr>\n",
       "      <th>0</th>\n",
       "      <td>605</td>\n",
       "      <td>ham</td>\n",
       "      <td>Subject: enron methanol ; meter # : 988291\\r\\n...</td>\n",
       "      <td>0</td>\n",
       "    </tr>\n",
       "    <tr>\n",
       "      <th>1</th>\n",
       "      <td>2349</td>\n",
       "      <td>ham</td>\n",
       "      <td>Subject: hpl nom for january 9 , 2001\\r\\n( see...</td>\n",
       "      <td>0</td>\n",
       "    </tr>\n",
       "    <tr>\n",
       "      <th>2</th>\n",
       "      <td>3624</td>\n",
       "      <td>ham</td>\n",
       "      <td>Subject: neon retreat\\r\\nho ho ho , we ' re ar...</td>\n",
       "      <td>0</td>\n",
       "    </tr>\n",
       "    <tr>\n",
       "      <th>3</th>\n",
       "      <td>4685</td>\n",
       "      <td>spam</td>\n",
       "      <td>Subject: photoshop , windows , office . cheap ...</td>\n",
       "      <td>1</td>\n",
       "    </tr>\n",
       "    <tr>\n",
       "      <th>4</th>\n",
       "      <td>2030</td>\n",
       "      <td>ham</td>\n",
       "      <td>Subject: re : indian springs\\r\\nthis deal is t...</td>\n",
       "      <td>0</td>\n",
       "    </tr>\n",
       "  </tbody>\n",
       "</table>\n",
       "</div>"
      ],
      "text/plain": [
       "   Unnamed: 0 label                                               text  \\\n",
       "0         605   ham  Subject: enron methanol ; meter # : 988291\\r\\n...   \n",
       "1        2349   ham  Subject: hpl nom for january 9 , 2001\\r\\n( see...   \n",
       "2        3624   ham  Subject: neon retreat\\r\\nho ho ho , we ' re ar...   \n",
       "3        4685  spam  Subject: photoshop , windows , office . cheap ...   \n",
       "4        2030   ham  Subject: re : indian springs\\r\\nthis deal is t...   \n",
       "\n",
       "   label_num  \n",
       "0          0  \n",
       "1          0  \n",
       "2          0  \n",
       "3          1  \n",
       "4          0  "
      ]
     },
     "execution_count": 4,
     "metadata": {},
     "output_type": "execute_result"
    }
   ],
   "source": [
    "df.head()"
   ]
  },
  {
   "cell_type": "code",
   "execution_count": 5,
   "id": "fc238280",
   "metadata": {
    "ExecuteTime": {
     "end_time": "2023-06-02T06:38:47.093916Z",
     "start_time": "2023-06-02T06:38:47.083915Z"
    }
   },
   "outputs": [
    {
     "data": {
      "text/plain": [
       "(5171, 4)"
      ]
     },
     "execution_count": 5,
     "metadata": {},
     "output_type": "execute_result"
    }
   ],
   "source": [
    "df.shape"
   ]
  },
  {
   "cell_type": "markdown",
   "id": "fced93ea",
   "metadata": {},
   "source": [
    "# Data cleaning"
   ]
  },
  {
   "cell_type": "code",
   "execution_count": 6,
   "id": "274310e3",
   "metadata": {
    "ExecuteTime": {
     "end_time": "2023-06-02T06:38:47.137477Z",
     "start_time": "2023-06-02T06:38:47.099916Z"
    }
   },
   "outputs": [
    {
     "name": "stdout",
     "output_type": "stream",
     "text": [
      "<class 'pandas.core.frame.DataFrame'>\n",
      "RangeIndex: 5171 entries, 0 to 5170\n",
      "Data columns (total 4 columns):\n",
      " #   Column      Non-Null Count  Dtype \n",
      "---  ------      --------------  ----- \n",
      " 0   Unnamed: 0  5171 non-null   int64 \n",
      " 1   label       5171 non-null   object\n",
      " 2   text        5171 non-null   object\n",
      " 3   label_num   5171 non-null   int64 \n",
      "dtypes: int64(2), object(2)\n",
      "memory usage: 161.7+ KB\n"
     ]
    }
   ],
   "source": [
    "df.info()"
   ]
  },
  {
   "cell_type": "markdown",
   "id": "40d91288",
   "metadata": {},
   "source": [
    "### Dropping less value columns"
   ]
  },
  {
   "cell_type": "code",
   "execution_count": 7,
   "id": "1b32b858",
   "metadata": {
    "ExecuteTime": {
     "end_time": "2023-06-02T06:38:48.733892Z",
     "start_time": "2023-06-02T06:38:47.139517Z"
    }
   },
   "outputs": [
    {
     "ename": "KeyError",
     "evalue": "\"['Unnamed: 2', 'Unnamed: 3', 'Unnamed: 4'] not found in axis\"",
     "output_type": "error",
     "traceback": [
      "\u001b[1;31m---------------------------------------------------------------------------\u001b[0m",
      "\u001b[1;31mKeyError\u001b[0m                                  Traceback (most recent call last)",
      "\u001b[1;32m~\\AppData\\Local\\Temp\\ipykernel_11084\\2363609767.py\u001b[0m in \u001b[0;36m<module>\u001b[1;34m\u001b[0m\n\u001b[1;32m----> 1\u001b[1;33m \u001b[0mdf\u001b[0m\u001b[1;33m.\u001b[0m\u001b[0mdrop\u001b[0m\u001b[1;33m(\u001b[0m\u001b[0mcolumns\u001b[0m \u001b[1;33m=\u001b[0m \u001b[1;33m[\u001b[0m\u001b[1;34m'Unnamed: 2'\u001b[0m\u001b[1;33m,\u001b[0m\u001b[1;34m'Unnamed: 3'\u001b[0m\u001b[1;33m,\u001b[0m\u001b[1;34m'Unnamed: 4'\u001b[0m\u001b[1;33m]\u001b[0m\u001b[1;33m,\u001b[0m \u001b[0minplace\u001b[0m\u001b[1;33m=\u001b[0m\u001b[1;32mTrue\u001b[0m\u001b[1;33m)\u001b[0m\u001b[1;33m\u001b[0m\u001b[1;33m\u001b[0m\u001b[0m\n\u001b[0m",
      "\u001b[1;32m~\\anaconda3\\lib\\site-packages\\pandas\\util\\_decorators.py\u001b[0m in \u001b[0;36mwrapper\u001b[1;34m(*args, **kwargs)\u001b[0m\n\u001b[0;32m    309\u001b[0m                     \u001b[0mstacklevel\u001b[0m\u001b[1;33m=\u001b[0m\u001b[0mstacklevel\u001b[0m\u001b[1;33m,\u001b[0m\u001b[1;33m\u001b[0m\u001b[1;33m\u001b[0m\u001b[0m\n\u001b[0;32m    310\u001b[0m                 )\n\u001b[1;32m--> 311\u001b[1;33m             \u001b[1;32mreturn\u001b[0m \u001b[0mfunc\u001b[0m\u001b[1;33m(\u001b[0m\u001b[1;33m*\u001b[0m\u001b[0margs\u001b[0m\u001b[1;33m,\u001b[0m \u001b[1;33m**\u001b[0m\u001b[0mkwargs\u001b[0m\u001b[1;33m)\u001b[0m\u001b[1;33m\u001b[0m\u001b[1;33m\u001b[0m\u001b[0m\n\u001b[0m\u001b[0;32m    312\u001b[0m \u001b[1;33m\u001b[0m\u001b[0m\n\u001b[0;32m    313\u001b[0m         \u001b[1;32mreturn\u001b[0m \u001b[0mwrapper\u001b[0m\u001b[1;33m\u001b[0m\u001b[1;33m\u001b[0m\u001b[0m\n",
      "\u001b[1;32m~\\anaconda3\\lib\\site-packages\\pandas\\core\\frame.py\u001b[0m in \u001b[0;36mdrop\u001b[1;34m(self, labels, axis, index, columns, level, inplace, errors)\u001b[0m\n\u001b[0;32m   4955\u001b[0m                 \u001b[0mweight\u001b[0m  \u001b[1;36m1.0\u001b[0m     \u001b[1;36m0.8\u001b[0m\u001b[1;33m\u001b[0m\u001b[1;33m\u001b[0m\u001b[0m\n\u001b[0;32m   4956\u001b[0m         \"\"\"\n\u001b[1;32m-> 4957\u001b[1;33m         return super().drop(\n\u001b[0m\u001b[0;32m   4958\u001b[0m             \u001b[0mlabels\u001b[0m\u001b[1;33m=\u001b[0m\u001b[0mlabels\u001b[0m\u001b[1;33m,\u001b[0m\u001b[1;33m\u001b[0m\u001b[1;33m\u001b[0m\u001b[0m\n\u001b[0;32m   4959\u001b[0m             \u001b[0maxis\u001b[0m\u001b[1;33m=\u001b[0m\u001b[0maxis\u001b[0m\u001b[1;33m,\u001b[0m\u001b[1;33m\u001b[0m\u001b[1;33m\u001b[0m\u001b[0m\n",
      "\u001b[1;32m~\\anaconda3\\lib\\site-packages\\pandas\\core\\generic.py\u001b[0m in \u001b[0;36mdrop\u001b[1;34m(self, labels, axis, index, columns, level, inplace, errors)\u001b[0m\n\u001b[0;32m   4265\u001b[0m         \u001b[1;32mfor\u001b[0m \u001b[0maxis\u001b[0m\u001b[1;33m,\u001b[0m \u001b[0mlabels\u001b[0m \u001b[1;32min\u001b[0m \u001b[0maxes\u001b[0m\u001b[1;33m.\u001b[0m\u001b[0mitems\u001b[0m\u001b[1;33m(\u001b[0m\u001b[1;33m)\u001b[0m\u001b[1;33m:\u001b[0m\u001b[1;33m\u001b[0m\u001b[1;33m\u001b[0m\u001b[0m\n\u001b[0;32m   4266\u001b[0m             \u001b[1;32mif\u001b[0m \u001b[0mlabels\u001b[0m \u001b[1;32mis\u001b[0m \u001b[1;32mnot\u001b[0m \u001b[1;32mNone\u001b[0m\u001b[1;33m:\u001b[0m\u001b[1;33m\u001b[0m\u001b[1;33m\u001b[0m\u001b[0m\n\u001b[1;32m-> 4267\u001b[1;33m                 \u001b[0mobj\u001b[0m \u001b[1;33m=\u001b[0m \u001b[0mobj\u001b[0m\u001b[1;33m.\u001b[0m\u001b[0m_drop_axis\u001b[0m\u001b[1;33m(\u001b[0m\u001b[0mlabels\u001b[0m\u001b[1;33m,\u001b[0m \u001b[0maxis\u001b[0m\u001b[1;33m,\u001b[0m \u001b[0mlevel\u001b[0m\u001b[1;33m=\u001b[0m\u001b[0mlevel\u001b[0m\u001b[1;33m,\u001b[0m \u001b[0merrors\u001b[0m\u001b[1;33m=\u001b[0m\u001b[0merrors\u001b[0m\u001b[1;33m)\u001b[0m\u001b[1;33m\u001b[0m\u001b[1;33m\u001b[0m\u001b[0m\n\u001b[0m\u001b[0;32m   4268\u001b[0m \u001b[1;33m\u001b[0m\u001b[0m\n\u001b[0;32m   4269\u001b[0m         \u001b[1;32mif\u001b[0m \u001b[0minplace\u001b[0m\u001b[1;33m:\u001b[0m\u001b[1;33m\u001b[0m\u001b[1;33m\u001b[0m\u001b[0m\n",
      "\u001b[1;32m~\\anaconda3\\lib\\site-packages\\pandas\\core\\generic.py\u001b[0m in \u001b[0;36m_drop_axis\u001b[1;34m(self, labels, axis, level, errors, consolidate, only_slice)\u001b[0m\n\u001b[0;32m   4309\u001b[0m                 \u001b[0mnew_axis\u001b[0m \u001b[1;33m=\u001b[0m \u001b[0maxis\u001b[0m\u001b[1;33m.\u001b[0m\u001b[0mdrop\u001b[0m\u001b[1;33m(\u001b[0m\u001b[0mlabels\u001b[0m\u001b[1;33m,\u001b[0m \u001b[0mlevel\u001b[0m\u001b[1;33m=\u001b[0m\u001b[0mlevel\u001b[0m\u001b[1;33m,\u001b[0m \u001b[0merrors\u001b[0m\u001b[1;33m=\u001b[0m\u001b[0merrors\u001b[0m\u001b[1;33m)\u001b[0m\u001b[1;33m\u001b[0m\u001b[1;33m\u001b[0m\u001b[0m\n\u001b[0;32m   4310\u001b[0m             \u001b[1;32melse\u001b[0m\u001b[1;33m:\u001b[0m\u001b[1;33m\u001b[0m\u001b[1;33m\u001b[0m\u001b[0m\n\u001b[1;32m-> 4311\u001b[1;33m                 \u001b[0mnew_axis\u001b[0m \u001b[1;33m=\u001b[0m \u001b[0maxis\u001b[0m\u001b[1;33m.\u001b[0m\u001b[0mdrop\u001b[0m\u001b[1;33m(\u001b[0m\u001b[0mlabels\u001b[0m\u001b[1;33m,\u001b[0m \u001b[0merrors\u001b[0m\u001b[1;33m=\u001b[0m\u001b[0merrors\u001b[0m\u001b[1;33m)\u001b[0m\u001b[1;33m\u001b[0m\u001b[1;33m\u001b[0m\u001b[0m\n\u001b[0m\u001b[0;32m   4312\u001b[0m             \u001b[0mindexer\u001b[0m \u001b[1;33m=\u001b[0m \u001b[0maxis\u001b[0m\u001b[1;33m.\u001b[0m\u001b[0mget_indexer\u001b[0m\u001b[1;33m(\u001b[0m\u001b[0mnew_axis\u001b[0m\u001b[1;33m)\u001b[0m\u001b[1;33m\u001b[0m\u001b[1;33m\u001b[0m\u001b[0m\n\u001b[0;32m   4313\u001b[0m \u001b[1;33m\u001b[0m\u001b[0m\n",
      "\u001b[1;32m~\\anaconda3\\lib\\site-packages\\pandas\\core\\indexes\\base.py\u001b[0m in \u001b[0;36mdrop\u001b[1;34m(self, labels, errors)\u001b[0m\n\u001b[0;32m   6659\u001b[0m         \u001b[1;32mif\u001b[0m \u001b[0mmask\u001b[0m\u001b[1;33m.\u001b[0m\u001b[0many\u001b[0m\u001b[1;33m(\u001b[0m\u001b[1;33m)\u001b[0m\u001b[1;33m:\u001b[0m\u001b[1;33m\u001b[0m\u001b[1;33m\u001b[0m\u001b[0m\n\u001b[0;32m   6660\u001b[0m             \u001b[1;32mif\u001b[0m \u001b[0merrors\u001b[0m \u001b[1;33m!=\u001b[0m \u001b[1;34m\"ignore\"\u001b[0m\u001b[1;33m:\u001b[0m\u001b[1;33m\u001b[0m\u001b[1;33m\u001b[0m\u001b[0m\n\u001b[1;32m-> 6661\u001b[1;33m                 \u001b[1;32mraise\u001b[0m \u001b[0mKeyError\u001b[0m\u001b[1;33m(\u001b[0m\u001b[1;34mf\"{list(labels[mask])} not found in axis\"\u001b[0m\u001b[1;33m)\u001b[0m\u001b[1;33m\u001b[0m\u001b[1;33m\u001b[0m\u001b[0m\n\u001b[0m\u001b[0;32m   6662\u001b[0m             \u001b[0mindexer\u001b[0m \u001b[1;33m=\u001b[0m \u001b[0mindexer\u001b[0m\u001b[1;33m[\u001b[0m\u001b[1;33m~\u001b[0m\u001b[0mmask\u001b[0m\u001b[1;33m]\u001b[0m\u001b[1;33m\u001b[0m\u001b[1;33m\u001b[0m\u001b[0m\n\u001b[0;32m   6663\u001b[0m         \u001b[1;32mreturn\u001b[0m \u001b[0mself\u001b[0m\u001b[1;33m.\u001b[0m\u001b[0mdelete\u001b[0m\u001b[1;33m(\u001b[0m\u001b[0mindexer\u001b[0m\u001b[1;33m)\u001b[0m\u001b[1;33m\u001b[0m\u001b[1;33m\u001b[0m\u001b[0m\n",
      "\u001b[1;31mKeyError\u001b[0m: \"['Unnamed: 2', 'Unnamed: 3', 'Unnamed: 4'] not found in axis\""
     ]
    }
   ],
   "source": [
    "df.drop(columns = ['Unnamed: 2','Unnamed: 3','Unnamed: 4'], inplace=True)"
   ]
  },
  {
   "cell_type": "code",
   "execution_count": null,
   "id": "a0894085",
   "metadata": {
    "ExecuteTime": {
     "end_time": "2023-06-02T06:38:48.771892Z",
     "start_time": "2023-06-02T06:38:48.771892Z"
    }
   },
   "outputs": [],
   "source": [
    "df.sample(10)"
   ]
  },
  {
   "cell_type": "markdown",
   "id": "644890ff",
   "metadata": {},
   "source": [
    "### column Rename for Better Understanding"
   ]
  },
  {
   "cell_type": "code",
   "execution_count": null,
   "id": "420b42f1",
   "metadata": {
    "ExecuteTime": {
     "end_time": "2023-06-02T06:38:48.775892Z",
     "start_time": "2023-06-02T06:38:48.775892Z"
    }
   },
   "outputs": [],
   "source": [
    "df.rename(columns={'v1':'target', 'v2':'text'}, inplace=True)"
   ]
  },
  {
   "cell_type": "code",
   "execution_count": null,
   "id": "1320bf82",
   "metadata": {
    "ExecuteTime": {
     "end_time": "2023-06-02T06:38:48.777892Z",
     "start_time": "2023-06-02T06:38:48.777892Z"
    }
   },
   "outputs": [],
   "source": [
    "df.head()"
   ]
  },
  {
   "cell_type": "markdown",
   "id": "f582c2e9",
   "metadata": {},
   "source": [
    "### Label Encoding"
   ]
  },
  {
   "cell_type": "code",
   "execution_count": null,
   "id": "917a7cae",
   "metadata": {
    "ExecuteTime": {
     "end_time": "2023-06-02T06:38:48.782892Z",
     "start_time": "2023-06-02T06:38:48.782892Z"
    }
   },
   "outputs": [],
   "source": [
    "from sklearn.preprocessing import LabelEncoder\n",
    "encoder = LabelEncoder()"
   ]
  },
  {
   "cell_type": "code",
   "execution_count": null,
   "id": "278ac5e3",
   "metadata": {
    "ExecuteTime": {
     "end_time": "2023-06-02T06:38:48.785891Z",
     "start_time": "2023-06-02T06:38:48.785891Z"
    }
   },
   "outputs": [],
   "source": [
    "df['target'] = encoder.fit_transform(df['target'])"
   ]
  },
  {
   "cell_type": "markdown",
   "id": "dd4f5b0a",
   "metadata": {},
   "source": [
    "#### ham = 0, spam = 1"
   ]
  },
  {
   "cell_type": "code",
   "execution_count": null,
   "id": "3f4093ca",
   "metadata": {
    "ExecuteTime": {
     "end_time": "2023-06-02T06:38:48.788892Z",
     "start_time": "2023-06-02T06:38:48.788892Z"
    }
   },
   "outputs": [],
   "source": [
    "df.head()"
   ]
  },
  {
   "cell_type": "markdown",
   "id": "8c8741c7",
   "metadata": {},
   "source": [
    "#### Missing Values"
   ]
  },
  {
   "cell_type": "code",
   "execution_count": null,
   "id": "565ac761",
   "metadata": {
    "ExecuteTime": {
     "end_time": "2023-06-02T06:38:48.791892Z",
     "start_time": "2023-06-02T06:38:48.791892Z"
    }
   },
   "outputs": [],
   "source": [
    "df.isnull().sum()"
   ]
  },
  {
   "cell_type": "markdown",
   "id": "406ddcac",
   "metadata": {},
   "source": [
    "#### Checking for Duplicate Values"
   ]
  },
  {
   "cell_type": "code",
   "execution_count": null,
   "id": "8cae9d6b",
   "metadata": {
    "ExecuteTime": {
     "end_time": "2023-06-02T06:38:48.794892Z",
     "start_time": "2023-06-02T06:38:48.794892Z"
    }
   },
   "outputs": [],
   "source": [
    "df.duplicated().sum()"
   ]
  },
  {
   "cell_type": "code",
   "execution_count": null,
   "id": "d6784561",
   "metadata": {
    "ExecuteTime": {
     "end_time": "2023-06-02T06:38:48.799892Z",
     "start_time": "2023-06-02T06:38:48.799892Z"
    }
   },
   "outputs": [],
   "source": [
    "df = df.drop_duplicates(keep='first')"
   ]
  },
  {
   "cell_type": "code",
   "execution_count": null,
   "id": "ad63e5fa",
   "metadata": {
    "ExecuteTime": {
     "end_time": "2023-06-02T06:38:48.802891Z",
     "start_time": "2023-06-02T06:38:48.802891Z"
    }
   },
   "outputs": [],
   "source": [
    "df.duplicated().sum()"
   ]
  },
  {
   "cell_type": "markdown",
   "id": "03f97950",
   "metadata": {},
   "source": [
    "# EDA"
   ]
  },
  {
   "cell_type": "code",
   "execution_count": null,
   "id": "4339937b",
   "metadata": {
    "ExecuteTime": {
     "end_time": "2023-06-02T06:38:48.805892Z",
     "start_time": "2023-06-02T06:38:48.805892Z"
    }
   },
   "outputs": [],
   "source": [
    "df.head()"
   ]
  },
  {
   "cell_type": "code",
   "execution_count": null,
   "id": "a67a970f",
   "metadata": {
    "ExecuteTime": {
     "end_time": "2023-06-02T06:38:48.808891Z",
     "start_time": "2023-06-02T06:38:48.808891Z"
    }
   },
   "outputs": [],
   "source": [
    "df['target'].value_counts()"
   ]
  },
  {
   "cell_type": "code",
   "execution_count": null,
   "id": "0da22b2d",
   "metadata": {
    "ExecuteTime": {
     "end_time": "2023-06-02T06:38:48.810892Z",
     "start_time": "2023-06-02T06:38:48.810892Z"
    }
   },
   "outputs": [],
   "source": [
    "plt.pie(df['target'].value_counts(), labels=['ham','spam'], autopct='%0.2f')"
   ]
  },
  {
   "cell_type": "markdown",
   "id": "1a8df4b1",
   "metadata": {},
   "source": [
    "##### Data imbalanced due to ham % high"
   ]
  },
  {
   "cell_type": "markdown",
   "id": "8f04fb44",
   "metadata": {},
   "source": [
    "# Making new columns for deeper analysis by using nltk library"
   ]
  },
  {
   "cell_type": "code",
   "execution_count": null,
   "id": "432ef05e",
   "metadata": {
    "ExecuteTime": {
     "end_time": "2023-06-02T06:38:48.813892Z",
     "start_time": "2023-06-02T06:38:48.813892Z"
    }
   },
   "outputs": [],
   "source": [
    "import nltk"
   ]
  },
  {
   "cell_type": "code",
   "execution_count": null,
   "id": "1ace3888",
   "metadata": {
    "ExecuteTime": {
     "end_time": "2023-06-02T06:38:48.815892Z",
     "start_time": "2023-06-02T06:38:48.815892Z"
    }
   },
   "outputs": [],
   "source": [
    "nltk.download('punkt')"
   ]
  },
  {
   "cell_type": "code",
   "execution_count": null,
   "id": "30f326ef",
   "metadata": {
    "ExecuteTime": {
     "end_time": "2023-06-02T06:38:48.842892Z",
     "start_time": "2023-06-02T06:38:48.842892Z"
    }
   },
   "outputs": [],
   "source": [
    "df['num_characters'] = df['text'].apply(len)"
   ]
  },
  {
   "cell_type": "code",
   "execution_count": null,
   "id": "7c08d1b2",
   "metadata": {
    "ExecuteTime": {
     "end_time": "2023-06-02T06:38:48.845892Z",
     "start_time": "2023-06-02T06:38:48.845892Z"
    }
   },
   "outputs": [],
   "source": [
    "df.head()"
   ]
  },
  {
   "cell_type": "code",
   "execution_count": null,
   "id": "2b118a59",
   "metadata": {
    "ExecuteTime": {
     "end_time": "2023-06-02T06:38:48.848891Z",
     "start_time": "2023-06-02T06:38:48.848891Z"
    }
   },
   "outputs": [],
   "source": [
    "df['num_words'] = df['text'].apply(lambda x:len(nltk.word_tokenize(x)))"
   ]
  },
  {
   "cell_type": "code",
   "execution_count": null,
   "id": "445420e6",
   "metadata": {
    "ExecuteTime": {
     "end_time": "2023-06-02T06:38:48.851893Z",
     "start_time": "2023-06-02T06:38:48.851893Z"
    }
   },
   "outputs": [],
   "source": [
    "df.head()"
   ]
  },
  {
   "cell_type": "code",
   "execution_count": null,
   "id": "c1cc4251",
   "metadata": {
    "ExecuteTime": {
     "end_time": "2023-06-02T06:38:48.855892Z",
     "start_time": "2023-06-02T06:38:48.855892Z"
    }
   },
   "outputs": [],
   "source": [
    "df['num_sentences'] = df['text'].apply(lambda x:len(nltk.sent_tokenize(x)))"
   ]
  },
  {
   "cell_type": "code",
   "execution_count": null,
   "id": "b41e0bd1",
   "metadata": {
    "ExecuteTime": {
     "end_time": "2023-06-02T06:38:48.857893Z",
     "start_time": "2023-06-02T06:38:48.857893Z"
    }
   },
   "outputs": [],
   "source": [
    "df.head()"
   ]
  },
  {
   "cell_type": "code",
   "execution_count": null,
   "id": "3d0e06a9",
   "metadata": {
    "ExecuteTime": {
     "end_time": "2023-06-02T06:38:48.860893Z",
     "start_time": "2023-06-02T06:38:48.860893Z"
    }
   },
   "outputs": [],
   "source": [
    "df[['num_characters','num_words','num_sentences']].describe()"
   ]
  },
  {
   "cell_type": "markdown",
   "id": "9a9b64ea",
   "metadata": {},
   "source": [
    "#### Descride funtion for Ham messages"
   ]
  },
  {
   "cell_type": "code",
   "execution_count": null,
   "id": "a837a198",
   "metadata": {
    "ExecuteTime": {
     "end_time": "2023-06-02T06:38:48.863892Z",
     "start_time": "2023-06-02T06:38:48.862892Z"
    }
   },
   "outputs": [],
   "source": [
    "df[df['target'] == 0][['num_characters','num_words','num_sentences']].describe()"
   ]
  },
  {
   "cell_type": "code",
   "execution_count": null,
   "id": "460543d1",
   "metadata": {
    "ExecuteTime": {
     "end_time": "2023-06-02T06:38:48.865892Z",
     "start_time": "2023-06-02T06:38:48.865892Z"
    }
   },
   "outputs": [],
   "source": [
    "df[df['target'] == 1][['num_characters','num_words','num_sentences']].describe()"
   ]
  },
  {
   "cell_type": "markdown",
   "id": "134fb2f0",
   "metadata": {},
   "source": [
    "#### Plotting the histogram on the bases of the ham & spam"
   ]
  },
  {
   "cell_type": "markdown",
   "id": "8a07c108",
   "metadata": {},
   "source": [
    "#### ham = 0, spam = 1 ----- Histogram based on number of Characters"
   ]
  },
  {
   "cell_type": "code",
   "execution_count": null,
   "id": "62af9c01",
   "metadata": {
    "ExecuteTime": {
     "end_time": "2023-06-02T06:38:48.869896Z",
     "start_time": "2023-06-02T06:38:48.869896Z"
    }
   },
   "outputs": [],
   "source": [
    "plt.figure(figsize=(12,5))\n",
    "sns.histplot(df[df['target']==0]['num_characters'])\n",
    "sns.histplot(df[df['target']==1]['num_characters'], color='red')"
   ]
  },
  {
   "cell_type": "markdown",
   "id": "57549dfc",
   "metadata": {},
   "source": [
    "#### Histogram based on number of words"
   ]
  },
  {
   "cell_type": "code",
   "execution_count": null,
   "id": "4d5bcd03",
   "metadata": {
    "ExecuteTime": {
     "end_time": "2023-06-02T06:38:48.872894Z",
     "start_time": "2023-06-02T06:38:48.872894Z"
    }
   },
   "outputs": [],
   "source": [
    "plt.figure(figsize=(12,5))\n",
    "sns.histplot(df[df['target']==0]['num_words'])\n",
    "sns.histplot(df[df['target']==1]['num_words'], color='red')"
   ]
  },
  {
   "cell_type": "markdown",
   "id": "aeb00a53",
   "metadata": {},
   "source": [
    "#### Histogram based on number of sentences"
   ]
  },
  {
   "cell_type": "code",
   "execution_count": null,
   "id": "d04537f3",
   "metadata": {
    "ExecuteTime": {
     "end_time": "2023-06-02T06:38:48.875892Z",
     "start_time": "2023-06-02T06:38:48.875892Z"
    }
   },
   "outputs": [],
   "source": [
    "plt.figure(figsize=(12,5))\n",
    "sns.histplot(df[df['target']==0]['num_sentences'])\n",
    "sns.histplot(df[df['target']==1]['num_sentences'], color='red')"
   ]
  },
  {
   "cell_type": "markdown",
   "id": "d84b480e",
   "metadata": {},
   "source": [
    "### By the pair plot we found some outliers"
   ]
  },
  {
   "cell_type": "code",
   "execution_count": null,
   "id": "84809d47",
   "metadata": {
    "ExecuteTime": {
     "end_time": "2023-06-02T06:38:48.878891Z",
     "start_time": "2023-06-02T06:38:48.877892Z"
    }
   },
   "outputs": [],
   "source": [
    "sns.pairplot(df, hue='target')"
   ]
  },
  {
   "cell_type": "markdown",
   "id": "5d2ff780",
   "metadata": {},
   "source": [
    "#### To find the correlation i have plot the heat map"
   ]
  },
  {
   "cell_type": "code",
   "execution_count": null,
   "id": "4ed02084",
   "metadata": {
    "ExecuteTime": {
     "end_time": "2023-06-02T06:38:48.880892Z",
     "start_time": "2023-06-02T06:38:48.880892Z"
    }
   },
   "outputs": [],
   "source": [
    "sns.heatmap(df.corr(),annot=True)"
   ]
  },
  {
   "cell_type": "markdown",
   "id": "9b4824a4",
   "metadata": {},
   "source": [
    "# Data Preprocessing"
   ]
  },
  {
   "cell_type": "markdown",
   "id": "9c303c4b",
   "metadata": {
    "ExecuteTime": {
     "end_time": "2023-04-26T10:02:03.582344Z",
     "start_time": "2023-04-26T10:02:03.566339Z"
    }
   },
   "source": [
    "- Lower casing text\n",
    "- Tokenization\n",
    "- Removing special character\n",
    "- Removing stop_words and Punctuations\n",
    "- Stemming"
   ]
  },
  {
   "cell_type": "code",
   "execution_count": null,
   "id": "4cde5a40",
   "metadata": {
    "ExecuteTime": {
     "end_time": "2023-06-02T06:38:48.882892Z",
     "start_time": "2023-06-02T06:38:48.882892Z"
    }
   },
   "outputs": [],
   "source": [
    " def transform_text(text):\n",
    "        text = text.lower()\n",
    "        text = nltk.word_tokenize(text)\n",
    "        \n",
    "        y = []\n",
    "        for i in text:\n",
    "            if i.isalnum():\n",
    "                y.append(i)\n",
    "                \n",
    "        text = y[:]\n",
    "        y.clear()\n",
    "        \n",
    "        for i in text:\n",
    "            if i not in stopwords.words('english') and i not in string.punctuation:\n",
    "                y.append(i)\n",
    "                \n",
    "        text = y[:]\n",
    "        y.clear()\n",
    "        \n",
    "        for i in text:\n",
    "            y.append(PorterStemmer().stem(i))\n",
    "            \n",
    "        return \" \".join(y)\n",
    "        "
   ]
  },
  {
   "cell_type": "code",
   "execution_count": null,
   "id": "2c4dcf27",
   "metadata": {
    "ExecuteTime": {
     "end_time": "2023-06-02T06:38:48.884892Z",
     "start_time": "2023-06-02T06:38:48.884892Z"
    }
   },
   "outputs": [],
   "source": [
    "df['transformed_text']= df['text'].apply(transform_text)"
   ]
  },
  {
   "cell_type": "code",
   "execution_count": null,
   "id": "2be987c2",
   "metadata": {
    "ExecuteTime": {
     "end_time": "2023-06-02T06:38:48.887892Z",
     "start_time": "2023-06-02T06:38:48.887892Z"
    }
   },
   "outputs": [],
   "source": [
    "df.head()"
   ]
  },
  {
   "cell_type": "markdown",
   "id": "96a3277c",
   "metadata": {},
   "source": [
    "#### WordCloud"
   ]
  },
  {
   "cell_type": "code",
   "execution_count": null,
   "id": "64152517",
   "metadata": {
    "ExecuteTime": {
     "end_time": "2023-06-02T06:38:48.889892Z",
     "start_time": "2023-06-02T06:38:48.889892Z"
    }
   },
   "outputs": [],
   "source": [
    "wc = WordCloud(width=700,height=700,min_font_size=10,background_color='white')"
   ]
  },
  {
   "cell_type": "code",
   "execution_count": null,
   "id": "0eb4751c",
   "metadata": {
    "ExecuteTime": {
     "end_time": "2023-06-02T06:38:48.892892Z",
     "start_time": "2023-06-02T06:38:48.892892Z"
    }
   },
   "outputs": [],
   "source": [
    "spam_wc = wc.generate(df[df['target'] == 1]['transformed_text'].str.cat(sep=\" \"))"
   ]
  },
  {
   "cell_type": "code",
   "execution_count": null,
   "id": "46146f89",
   "metadata": {
    "ExecuteTime": {
     "end_time": "2023-06-02T06:38:48.894892Z",
     "start_time": "2023-06-02T06:38:48.894892Z"
    }
   },
   "outputs": [],
   "source": [
    "plt.imshow(spam_wc)"
   ]
  },
  {
   "cell_type": "code",
   "execution_count": null,
   "id": "182ff24b",
   "metadata": {
    "ExecuteTime": {
     "end_time": "2023-06-02T06:38:48.964892Z",
     "start_time": "2023-06-02T06:38:48.964892Z"
    }
   },
   "outputs": [],
   "source": [
    "ham_wc = wc.generate(df[df['target'] == 0]['transformed_text'].str.cat(sep=\" \"))\n",
    "plt.imshow(ham_wc)"
   ]
  },
  {
   "cell_type": "markdown",
   "id": "a31c690f",
   "metadata": {},
   "source": [
    "#### Find the most common words in the spam messages"
   ]
  },
  {
   "cell_type": "code",
   "execution_count": null,
   "id": "64465f9f",
   "metadata": {
    "ExecuteTime": {
     "end_time": "2023-06-02T06:38:48.967892Z",
     "start_time": "2023-06-02T06:38:48.967892Z"
    }
   },
   "outputs": [],
   "source": [
    "spam_corpus = []\n",
    "for mgs in df[df['target'] == 1]['transformed_text'].tolist():\n",
    "    for word in mgs.split():\n",
    "        spam_corpus.append(word)\n",
    "len(spam_corpus)"
   ]
  },
  {
   "cell_type": "code",
   "execution_count": null,
   "id": "3da32d1e",
   "metadata": {
    "ExecuteTime": {
     "end_time": "2023-06-02T06:38:48.969892Z",
     "start_time": "2023-06-02T06:38:48.969892Z"
    }
   },
   "outputs": [],
   "source": [
    "from collections import Counter"
   ]
  },
  {
   "cell_type": "code",
   "execution_count": null,
   "id": "0b227e82",
   "metadata": {
    "ExecuteTime": {
     "end_time": "2023-06-02T06:38:48.972894Z",
     "start_time": "2023-06-02T06:38:48.972894Z"
    }
   },
   "outputs": [],
   "source": [
    "sns.barplot(pd.DataFrame(Counter(spam_corpus).most_common(30))[0],pd.DataFrame(Counter(spam_corpus).most_common(30))[1])\n",
    "plt.xticks(rotation='vertical')\n",
    "plt.show"
   ]
  },
  {
   "cell_type": "markdown",
   "id": "acda4d9f",
   "metadata": {},
   "source": [
    "#### Find the most common words in the ham messages"
   ]
  },
  {
   "cell_type": "code",
   "execution_count": null,
   "id": "f9faad3c",
   "metadata": {
    "ExecuteTime": {
     "end_time": "2023-06-02T06:38:48.975892Z",
     "start_time": "2023-06-02T06:38:48.975892Z"
    }
   },
   "outputs": [],
   "source": [
    "ham_corpus = []\n",
    "for mgs in df[df['target'] == 0]['transformed_text'].tolist():\n",
    "    for word in mgs.split():\n",
    "        ham_corpus.append(word)\n",
    "len(ham_corpus)"
   ]
  },
  {
   "cell_type": "code",
   "execution_count": null,
   "id": "65a77964",
   "metadata": {
    "ExecuteTime": {
     "end_time": "2023-06-02T06:38:48.977893Z",
     "start_time": "2023-06-02T06:38:48.977893Z"
    }
   },
   "outputs": [],
   "source": [
    "sns.barplot(pd.DataFrame(Counter(ham_corpus).most_common(30))[0],pd.DataFrame(Counter(ham_corpus).most_common(30))[1])\n",
    "plt.xticks(rotation='vertical')\n",
    "plt.show"
   ]
  },
  {
   "cell_type": "markdown",
   "id": "54a0e4fe",
   "metadata": {},
   "source": [
    "# Model Building"
   ]
  },
  {
   "cell_type": "code",
   "execution_count": null,
   "id": "4c9afcdd",
   "metadata": {
    "ExecuteTime": {
     "end_time": "2023-06-02T06:38:48.980892Z",
     "start_time": "2023-06-02T06:38:48.980892Z"
    }
   },
   "outputs": [],
   "source": [
    "from sklearn.feature_extraction.text import CountVectorizer,TfidfVectorizer\n",
    "cv = CountVectorizer()\n",
    "tfidf = TfidfVectorizer(max_features=3000)"
   ]
  },
  {
   "cell_type": "code",
   "execution_count": null,
   "id": "10aa1126",
   "metadata": {
    "ExecuteTime": {
     "end_time": "2023-06-02T06:38:48.982893Z",
     "start_time": "2023-06-02T06:38:48.982893Z"
    }
   },
   "outputs": [],
   "source": [
    "X = tfidf.fit_transform(df['transformed_text']).toarray()"
   ]
  },
  {
   "cell_type": "code",
   "execution_count": null,
   "id": "b2d0cf4b",
   "metadata": {
    "ExecuteTime": {
     "end_time": "2023-06-02T06:38:48.985892Z",
     "start_time": "2023-06-02T06:38:48.985892Z"
    }
   },
   "outputs": [],
   "source": [
    "X.shape"
   ]
  },
  {
   "cell_type": "code",
   "execution_count": null,
   "id": "1395dfd9",
   "metadata": {
    "ExecuteTime": {
     "end_time": "2023-06-02T06:38:48.988892Z",
     "start_time": "2023-06-02T06:38:48.987894Z"
    }
   },
   "outputs": [],
   "source": [
    "y = df['target'].values"
   ]
  },
  {
   "cell_type": "code",
   "execution_count": null,
   "id": "ea40990f",
   "metadata": {
    "ExecuteTime": {
     "end_time": "2023-06-02T06:38:48.990894Z",
     "start_time": "2023-06-02T06:38:48.990894Z"
    }
   },
   "outputs": [],
   "source": [
    "y"
   ]
  },
  {
   "cell_type": "code",
   "execution_count": null,
   "id": "0d9f6029",
   "metadata": {
    "ExecuteTime": {
     "end_time": "2023-06-02T06:38:48.993892Z",
     "start_time": "2023-06-02T06:38:48.993892Z"
    }
   },
   "outputs": [],
   "source": [
    "from sklearn.model_selection import train_test_split"
   ]
  },
  {
   "cell_type": "code",
   "execution_count": null,
   "id": "3ede00e7",
   "metadata": {
    "ExecuteTime": {
     "end_time": "2023-06-02T06:38:48.995893Z",
     "start_time": "2023-06-02T06:38:48.995893Z"
    }
   },
   "outputs": [],
   "source": [
    "X_train, X_test, y_train,y_test = train_test_split(X,y, test_size=0.2, random_state=1)"
   ]
  },
  {
   "cell_type": "code",
   "execution_count": null,
   "id": "fc00786b",
   "metadata": {
    "ExecuteTime": {
     "end_time": "2023-06-02T06:38:48.998893Z",
     "start_time": "2023-06-02T06:38:48.998893Z"
    }
   },
   "outputs": [],
   "source": [
    "from sklearn.naive_bayes import GaussianNB,MultinomialNB,BernoulliNB\n",
    "from sklearn.metrics import accuracy_score,confusion_matrix,precision_score"
   ]
  },
  {
   "cell_type": "code",
   "execution_count": null,
   "id": "3584a706",
   "metadata": {
    "ExecuteTime": {
     "end_time": "2023-06-02T06:38:49.000892Z",
     "start_time": "2023-06-02T06:38:49.000892Z"
    }
   },
   "outputs": [],
   "source": [
    "gnb = GaussianNB()\n",
    "mnb = MultinomialNB()\n",
    "bnb = BernoulliNB()"
   ]
  },
  {
   "cell_type": "code",
   "execution_count": null,
   "id": "537c49a3",
   "metadata": {
    "ExecuteTime": {
     "end_time": "2023-06-02T06:38:49.003892Z",
     "start_time": "2023-06-02T06:38:49.003892Z"
    }
   },
   "outputs": [],
   "source": [
    "gnb.fit(X_train,y_train)\n",
    "y_pred1 = gnb.predict(X_test)\n",
    "print(accuracy_score(y_test, y_pred1))\n",
    "print(confusion_matrix(y_test, y_pred1))\n",
    "print(precision_score(y_test, y_pred1))"
   ]
  },
  {
   "cell_type": "code",
   "execution_count": null,
   "id": "69a180e1",
   "metadata": {
    "ExecuteTime": {
     "end_time": "2023-06-02T06:38:49.005892Z",
     "start_time": "2023-06-02T06:38:49.005892Z"
    }
   },
   "outputs": [],
   "source": [
    "mnb.fit(X_train,y_train)\n",
    "y_pred2 = mnb.predict(X_test)\n",
    "print(accuracy_score(y_test, y_pred2))\n",
    "print(confusion_matrix(y_test, y_pred2))\n",
    "print(precision_score(y_test, y_pred2))"
   ]
  },
  {
   "cell_type": "code",
   "execution_count": null,
   "id": "8c268934",
   "metadata": {
    "ExecuteTime": {
     "end_time": "2023-06-02T06:38:49.008893Z",
     "start_time": "2023-06-02T06:38:49.008893Z"
    }
   },
   "outputs": [],
   "source": [
    "bnb.fit(X_train,y_train)\n",
    "y_pred1 = bnb.predict(X_test)\n",
    "print(accuracy_score(y_test, y_pred1))\n",
    "print(confusion_matrix(y_test, y_pred1))\n",
    "print(precision_score(y_test, y_pred1))"
   ]
  },
  {
   "cell_type": "markdown",
   "id": "04ac4605",
   "metadata": {},
   "source": [
    "#### Find the best model"
   ]
  },
  {
   "cell_type": "code",
   "execution_count": null,
   "id": "b9a017bf",
   "metadata": {
    "ExecuteTime": {
     "end_time": "2023-06-02T06:38:49.010892Z",
     "start_time": "2023-06-02T06:38:49.010892Z"
    }
   },
   "outputs": [],
   "source": [
    "from sklearn.linear_model import LogisticRegression\n",
    "from sklearn.svm import SVC\n",
    "from sklearn.naive_bayes import MultinomialNB\n",
    "from sklearn.tree import DecisionTreeClassifier\n",
    "from sklearn.neighbors import KNeighborsClassifier\n",
    "from sklearn.ensemble import RandomForestClassifier\n",
    "from sklearn.ensemble import AdaBoostClassifier\n",
    "from sklearn.ensemble import BaggingClassifier\n",
    "from sklearn.ensemble import ExtraTreesClassifier\n",
    "from sklearn.ensemble import GradientBoostingClassifier\n",
    "from xgboost import XGBClassifier"
   ]
  },
  {
   "cell_type": "code",
   "execution_count": null,
   "id": "615a851a",
   "metadata": {
    "ExecuteTime": {
     "end_time": "2023-06-02T06:38:49.019892Z",
     "start_time": "2023-06-02T06:38:49.019892Z"
    }
   },
   "outputs": [],
   "source": [
    "svc = SVC(kernel='sigmoid', gamma=1.0)\n",
    "knc = KNeighborsClassifier()\n",
    "mnb = MultinomialNB()\n",
    "dtc = DecisionTreeClassifier(max_depth=5)\n",
    "lrc = LogisticRegression(solver='liblinear', penalty='l1')\n",
    "rfc = RandomForestClassifier(n_estimators=50, random_state=2)\n",
    "abc = AdaBoostClassifier(n_estimators=50, random_state=2)\n",
    "bc = BaggingClassifier(n_estimators=50, random_state=2)\n",
    "etc = ExtraTreesClassifier(n_estimators=50, random_state=2)\n",
    "gbdt = GradientBoostingClassifier(n_estimators=50,random_state=2)\n",
    "xgb = XGBClassifier(n_estimators=50,random_state=2)"
   ]
  },
  {
   "cell_type": "code",
   "execution_count": null,
   "id": "fe2233f0",
   "metadata": {
    "ExecuteTime": {
     "end_time": "2023-06-02T06:38:49.022893Z",
     "start_time": "2023-06-02T06:38:49.022893Z"
    }
   },
   "outputs": [],
   "source": [
    "clfs = {\n",
    "    'SVC' : svc,\n",
    "    'KN' : knc, \n",
    "    'NB': mnb, \n",
    "    'DT': dtc, \n",
    "    'LR': lrc, \n",
    "    'RF': rfc, \n",
    "    'AdaBoost': abc, \n",
    "    'BgC': bc, \n",
    "    'ETC': etc,\n",
    "    'GBDT':gbdt,\n",
    "}"
   ]
  },
  {
   "cell_type": "code",
   "execution_count": null,
   "id": "a1a32e28",
   "metadata": {
    "ExecuteTime": {
     "end_time": "2023-06-02T06:38:49.024891Z",
     "start_time": "2023-06-02T06:38:49.024891Z"
    }
   },
   "outputs": [],
   "source": [
    "def train_classifier(clf,X_train,y_train,X_test,y_test):\n",
    "    clf.fit(X_train,y_train)\n",
    "    y_pred = clf.predict(X_test)\n",
    "    accuracy = accuracy_score(y_test,y_pred)\n",
    "    precision = precision_score(y_test,y_pred)\n",
    "    \n",
    "    return accuracy,precision"
   ]
  },
  {
   "cell_type": "code",
   "execution_count": null,
   "id": "3761d283",
   "metadata": {
    "ExecuteTime": {
     "end_time": "2023-06-02T06:38:49.026892Z",
     "start_time": "2023-06-02T06:38:49.026892Z"
    }
   },
   "outputs": [],
   "source": [
    "train_classifier(svc,X_train,y_train,X_test,y_test)"
   ]
  },
  {
   "cell_type": "code",
   "execution_count": null,
   "id": "e707d3c7",
   "metadata": {
    "ExecuteTime": {
     "end_time": "2023-06-02T06:38:49.030892Z",
     "start_time": "2023-06-02T06:38:49.030892Z"
    }
   },
   "outputs": [],
   "source": [
    "accuracy_scores = []\n",
    "precision_scores = []\n",
    "\n",
    "for name,clf in clfs.items():\n",
    "    \n",
    "    current_accuracy,current_precision = train_classifier(clf, X_train,y_train,X_test,y_test)\n",
    "    \n",
    "    print(\"For \",name)\n",
    "    print(\"Accuracy - \",current_accuracy)\n",
    "    print(\"Precision - \",current_precision)\n",
    "    \n",
    "    accuracy_scores.append(current_accuracy)\n",
    "    precision_scores.append(current_precision)"
   ]
  },
  {
   "cell_type": "code",
   "execution_count": null,
   "id": "15b98475",
   "metadata": {
    "ExecuteTime": {
     "end_time": "2023-06-02T06:38:49.032891Z",
     "start_time": "2023-06-02T06:38:49.032891Z"
    }
   },
   "outputs": [],
   "source": [
    "performance_df = pd.DataFrame({'Algorithm':clfs.keys(),'Accuracy':accuracy_scores,'Precision':precision_scores}).sort_values('Precision',ascending=False)\n",
    "performance_df"
   ]
  },
  {
   "cell_type": "code",
   "execution_count": null,
   "id": "cb16aa02",
   "metadata": {
    "ExecuteTime": {
     "end_time": "2023-06-02T06:38:49.035891Z",
     "start_time": "2023-06-02T06:38:49.035891Z"
    }
   },
   "outputs": [],
   "source": [
    "performance_df1 = pd.melt(performance_df, id_vars = \"Algorithm\")"
   ]
  },
  {
   "cell_type": "code",
   "execution_count": null,
   "id": "8f262775",
   "metadata": {
    "ExecuteTime": {
     "end_time": "2023-06-02T06:38:49.038892Z",
     "start_time": "2023-06-02T06:38:49.038892Z"
    }
   },
   "outputs": [],
   "source": [
    "performance_df1"
   ]
  },
  {
   "cell_type": "code",
   "execution_count": null,
   "id": "d4a31777",
   "metadata": {
    "ExecuteTime": {
     "end_time": "2023-06-02T06:38:49.040891Z",
     "start_time": "2023-06-02T06:38:49.040891Z"
    }
   },
   "outputs": [],
   "source": [
    "sns.catplot(x = 'Algorithm', y='value', \n",
    "               hue = 'variable',data=performance_df1, kind='bar',height=5)\n",
    "plt.ylim(0.5,1.0)\n",
    "plt.xticks(rotation='vertical')\n",
    "plt.show()"
   ]
  },
  {
   "cell_type": "markdown",
   "id": "580c9209",
   "metadata": {},
   "source": [
    "# Model Improvement"
   ]
  },
  {
   "cell_type": "code",
   "execution_count": null,
   "id": "4f992f08",
   "metadata": {
    "ExecuteTime": {
     "end_time": "2023-06-02T06:38:49.043891Z",
     "start_time": "2023-06-02T06:38:49.042891Z"
    }
   },
   "outputs": [],
   "source": [
    "temp_df = pd.DataFrame({'Algorithm':clfs.keys(),'Accuracy_max_ft_3000':accuracy_scores,'Precision_max_ft_3000':precision_scores}).sort_values('Precision_max_ft_3000',ascending=False)"
   ]
  },
  {
   "cell_type": "code",
   "execution_count": null,
   "id": "e1b143b7",
   "metadata": {
    "ExecuteTime": {
     "end_time": "2023-06-02T06:38:49.045892Z",
     "start_time": "2023-06-02T06:38:49.045892Z"
    }
   },
   "outputs": [],
   "source": [
    "temp_df = pd.DataFrame({'Algorithm':clfs.keys(),'Accuracy_scaling':accuracy_scores,'Precision_scaling':precision_scores}).sort_values('Precision_scaling',ascending=False)"
   ]
  },
  {
   "cell_type": "code",
   "execution_count": null,
   "id": "d62292fa",
   "metadata": {
    "ExecuteTime": {
     "end_time": "2023-06-02T06:38:49.047892Z",
     "start_time": "2023-06-02T06:38:49.047892Z"
    }
   },
   "outputs": [],
   "source": [
    "new_df = performance_df.merge(temp_df,on='Algorithm')"
   ]
  },
  {
   "cell_type": "code",
   "execution_count": null,
   "id": "0bb1f63d",
   "metadata": {
    "ExecuteTime": {
     "end_time": "2023-06-02T06:38:49.050892Z",
     "start_time": "2023-06-02T06:38:49.050892Z"
    }
   },
   "outputs": [],
   "source": [
    "new_df_scaled = new_df.merge(temp_df,on='Algorithm')"
   ]
  },
  {
   "cell_type": "code",
   "execution_count": null,
   "id": "dd0d55fe",
   "metadata": {
    "ExecuteTime": {
     "end_time": "2023-06-02T06:38:49.052891Z",
     "start_time": "2023-06-02T06:38:49.052891Z"
    }
   },
   "outputs": [],
   "source": [
    "temp_df = pd.DataFrame({'Algorithm':clfs.keys(),'Accuracy_num_chars':accuracy_scores,'Precision_num_chars':precision_scores}).sort_values('Precision_num_chars',ascending=False)"
   ]
  },
  {
   "cell_type": "code",
   "execution_count": null,
   "id": "3d9fa041",
   "metadata": {
    "ExecuteTime": {
     "end_time": "2023-06-02T06:38:49.055892Z",
     "start_time": "2023-06-02T06:38:49.055892Z"
    }
   },
   "outputs": [],
   "source": [
    "new_df_scaled.merge(temp_df,on='Algorithm')"
   ]
  },
  {
   "cell_type": "markdown",
   "id": "2060e447",
   "metadata": {},
   "source": [
    "# Voting Classifier"
   ]
  },
  {
   "cell_type": "code",
   "execution_count": null,
   "id": "dd0123c6",
   "metadata": {
    "ExecuteTime": {
     "end_time": "2023-06-02T06:38:49.057891Z",
     "start_time": "2023-06-02T06:38:49.057891Z"
    }
   },
   "outputs": [],
   "source": [
    "svc = SVC(kernel='sigmoid', gamma=1.0,probability=True)\n",
    "mnb = MultinomialNB()\n",
    "etc = ExtraTreesClassifier(n_estimators=50, random_state=2)\n",
    "\n",
    "from sklearn.ensemble import VotingClassifier"
   ]
  },
  {
   "cell_type": "code",
   "execution_count": null,
   "id": "04b747d7",
   "metadata": {
    "ExecuteTime": {
     "end_time": "2023-06-02T06:38:49.060892Z",
     "start_time": "2023-06-02T06:38:49.060892Z"
    }
   },
   "outputs": [],
   "source": [
    "voting = VotingClassifier(estimators=[('svm', svc), ('nb', mnb), ('et', etc)],voting='soft')"
   ]
  },
  {
   "cell_type": "code",
   "execution_count": null,
   "id": "380ad188",
   "metadata": {
    "ExecuteTime": {
     "end_time": "2023-06-02T06:38:49.063892Z",
     "start_time": "2023-06-02T06:38:49.063892Z"
    }
   },
   "outputs": [],
   "source": [
    "voting.fit(X_train,y_train)"
   ]
  },
  {
   "cell_type": "code",
   "execution_count": null,
   "id": "6db09a6b",
   "metadata": {
    "ExecuteTime": {
     "end_time": "2023-06-02T06:38:49.065892Z",
     "start_time": "2023-06-02T06:38:49.065892Z"
    }
   },
   "outputs": [],
   "source": [
    "y_pred = voting.predict(X_test)\n",
    "print(\"Accuracy\",accuracy_score(y_test,y_pred))\n",
    "print(\"Precision\",precision_score(y_test,y_pred))"
   ]
  },
  {
   "cell_type": "markdown",
   "id": "1d62574c",
   "metadata": {},
   "source": [
    "# Applying stacking"
   ]
  },
  {
   "cell_type": "code",
   "execution_count": null,
   "id": "ffe96dcf",
   "metadata": {
    "ExecuteTime": {
     "end_time": "2023-06-02T06:38:49.067892Z",
     "start_time": "2023-06-02T06:38:49.067892Z"
    }
   },
   "outputs": [],
   "source": [
    "estimators=[('svm', svc), ('nb', mnb), ('et', etc)]\n",
    "final_estimator=RandomForestClassifier()"
   ]
  },
  {
   "cell_type": "code",
   "execution_count": null,
   "id": "abec461c",
   "metadata": {
    "ExecuteTime": {
     "end_time": "2023-06-02T06:38:49.070893Z",
     "start_time": "2023-06-02T06:38:49.070893Z"
    }
   },
   "outputs": [],
   "source": [
    "from sklearn.ensemble import StackingClassifier\n"
   ]
  },
  {
   "cell_type": "code",
   "execution_count": null,
   "id": "eb211214",
   "metadata": {
    "ExecuteTime": {
     "end_time": "2023-06-02T06:38:49.130892Z",
     "start_time": "2023-06-02T06:38:49.130892Z"
    }
   },
   "outputs": [],
   "source": [
    "clf = StackingClassifier(estimators=estimators, final_estimator=final_estimator)"
   ]
  },
  {
   "cell_type": "code",
   "execution_count": null,
   "id": "9dbe5b4f",
   "metadata": {
    "ExecuteTime": {
     "end_time": "2023-06-02T06:38:49.133891Z",
     "start_time": "2023-06-02T06:38:49.133891Z"
    }
   },
   "outputs": [],
   "source": [
    "clf.fit(X_train,y_train)\n",
    "y_pred = clf.predict(X_test)\n",
    "print(\"Accuracy\",accuracy_score(y_test,y_pred))\n",
    "print(\"Precision\",precision_score(y_test,y_pred))"
   ]
  },
  {
   "cell_type": "code",
   "execution_count": null,
   "id": "603733cc",
   "metadata": {
    "ExecuteTime": {
     "end_time": "2023-06-02T06:38:49.135891Z",
     "start_time": "2023-06-02T06:38:49.135891Z"
    }
   },
   "outputs": [],
   "source": [
    "import pickle\n",
    "pickle.dump(tfidf,open('vectorizer.pkl','wb'))\n",
    "pickle.dump(mnb,open('model.pkl','wb'))"
   ]
  },
  {
   "cell_type": "code",
   "execution_count": null,
   "id": "3d78f2bb",
   "metadata": {},
   "outputs": [],
   "source": []
  }
 ],
 "metadata": {
  "kernelspec": {
   "display_name": "Python 3 (ipykernel)",
   "language": "python",
   "name": "python3"
  },
  "language_info": {
   "codemirror_mode": {
    "name": "ipython",
    "version": 3
   },
   "file_extension": ".py",
   "mimetype": "text/x-python",
   "name": "python",
   "nbconvert_exporter": "python",
   "pygments_lexer": "ipython3",
   "version": "3.9.13"
  },
  "varInspector": {
   "cols": {
    "lenName": 16,
    "lenType": 16,
    "lenVar": 40
   },
   "kernels_config": {
    "python": {
     "delete_cmd_postfix": "",
     "delete_cmd_prefix": "del ",
     "library": "var_list.py",
     "varRefreshCmd": "print(var_dic_list())"
    },
    "r": {
     "delete_cmd_postfix": ") ",
     "delete_cmd_prefix": "rm(",
     "library": "var_list.r",
     "varRefreshCmd": "cat(var_dic_list()) "
    }
   },
   "types_to_exclude": [
    "module",
    "function",
    "builtin_function_or_method",
    "instance",
    "_Feature"
   ],
   "window_display": false
  }
 },
 "nbformat": 4,
 "nbformat_minor": 5
}
